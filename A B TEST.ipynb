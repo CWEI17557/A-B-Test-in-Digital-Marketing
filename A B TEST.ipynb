{
 "cells": [
  {
   "cell_type": "markdown",
   "id": "65c5829c",
   "metadata": {},
   "source": [
    "# Backgroud "
   ]
  },
  {
   "cell_type": "markdown",
   "id": "d08201af",
   "metadata": {},
   "source": [
    " - You work on the product team at a medium-sized online e-commerce business. \n",
    " \n",
    " -  The UX designer have new version of the product page, with the hope that it will lead to a higher conversion rate. \n",
    " \n",
    "- The current conversion rate is about 13% on average throughout the year.\n",
    " \n",
    " -  The team would be happy with an increase of 2% \n",
    " \n",
    "\n"
   ]
  },
  {
   "cell_type": "markdown",
   "id": "463068d6",
   "metadata": {},
   "source": [
    "# Designing experiment"
   ]
  },
  {
   "cell_type": "markdown",
   "id": "ae48acc3",
   "metadata": {},
   "source": [
    "## Determine the minimum sample size"
   ]
  },
  {
   "cell_type": "markdown",
   "id": "8434b715",
   "metadata": {},
   "source": [
    " \n",
    "\t Baseline conversion rate : Original registration rate 13%\n",
    "\n",
    "\t Need minimum detectable effect:  2%\n",
    "\n",
    "\t Statistical power: 80%\n",
    "\n",
    "\t Significance level: 5% \n"
   ]
  },
  {
   "cell_type": "code",
   "execution_count": 7,
   "id": "2b7d1a41",
   "metadata": {},
   "outputs": [],
   "source": [
    "# Packages imports\n",
    "import numpy as np\n",
    "import pandas as pd\n",
    "import scipy.stats as stats\n",
    "import statsmodels.stats.api as sms\n",
    "import matplotlib as mpl\n",
    "import matplotlib.pyplot as plt\n",
    "import seaborn as sns\n",
    "from math import ceil"
   ]
  },
  {
   "cell_type": "code",
   "execution_count": 8,
   "id": "f3e986dd",
   "metadata": {},
   "outputs": [
    {
     "name": "stdout",
     "output_type": "stream",
     "text": [
      "4720\n"
     ]
    }
   ],
   "source": [
    "effect_size = sms.proportion_effectsize(0.13, 0.15)    # Calculating effect size based on our expected rates\n",
    "required_n = sms.NormalIndPower().solve_power(effect_size, power=0.8,  alpha=0.05,ratio=1)  # Calculating sample size needed\n",
    "required_n = ceil(required_n)                          # Rounding up to next whole number                          \n",
    "\n",
    "print(required_n)"
   ]
  },
  {
   "cell_type": "markdown",
   "id": "1ac77b80",
   "metadata": {},
   "source": [
    "# Select A/B groups "
   ]
  },
  {
   "cell_type": "markdown",
   "id": "f3ca1eb1",
   "metadata": {},
   "source": [
    "## Import user_id list"
   ]
  },
  {
   "cell_type": "code",
   "execution_count": 9,
   "id": "77def07a",
   "metadata": {},
   "outputs": [
    {
     "data": {
      "text/plain": [
       "(294478, 1)"
      ]
     },
     "execution_count": 9,
     "metadata": {},
     "output_type": "execute_result"
    }
   ],
   "source": [
    "import pandas as pd\n",
    "df = pd.read_csv('user_id.csv')   \n",
    "df.shape"
   ]
  },
  {
   "cell_type": "code",
   "execution_count": 10,
   "id": "de5d8a8e",
   "metadata": {},
   "outputs": [
    {
     "data": {
      "text/plain": [
       "290584"
      ]
     },
     "execution_count": 10,
     "metadata": {},
     "output_type": "execute_result"
    }
   ],
   "source": [
    "df['user_id'].nunique()"
   ]
  },
  {
   "cell_type": "markdown",
   "id": "40dd66d7",
   "metadata": {},
   "source": [
    "## Keep distinct user_id"
   ]
  },
  {
   "cell_type": "code",
   "execution_count": 11,
   "id": "2b54759d",
   "metadata": {
    "scrolled": true
   },
   "outputs": [
    {
     "data": {
      "text/plain": [
       "(290584, 1)"
      ]
     },
     "execution_count": 11,
     "metadata": {},
     "output_type": "execute_result"
    }
   ],
   "source": [
    "df = df.drop_duplicates(subset='user_id')\n",
    "df.shape"
   ]
  },
  {
   "cell_type": "markdown",
   "id": "9a940c57",
   "metadata": {},
   "source": [
    "## Select 9440 users randomly "
   ]
  },
  {
   "cell_type": "code",
   "execution_count": 12,
   "id": "18d8e61c",
   "metadata": {},
   "outputs": [
    {
     "data": {
      "text/html": [
       "<div>\n",
       "<style scoped>\n",
       "    .dataframe tbody tr th:only-of-type {\n",
       "        vertical-align: middle;\n",
       "    }\n",
       "\n",
       "    .dataframe tbody tr th {\n",
       "        vertical-align: top;\n",
       "    }\n",
       "\n",
       "    .dataframe thead th {\n",
       "        text-align: right;\n",
       "    }\n",
       "</style>\n",
       "<table border=\"1\" class=\"dataframe\">\n",
       "  <thead>\n",
       "    <tr style=\"text-align: right;\">\n",
       "      <th></th>\n",
       "      <th>user_id</th>\n",
       "    </tr>\n",
       "  </thead>\n",
       "  <tbody>\n",
       "    <tr>\n",
       "      <th>58519</th>\n",
       "      <td>892167</td>\n",
       "    </tr>\n",
       "    <tr>\n",
       "      <th>13120</th>\n",
       "      <td>749805</td>\n",
       "    </tr>\n",
       "    <tr>\n",
       "      <th>145145</th>\n",
       "      <td>650628</td>\n",
       "    </tr>\n",
       "    <tr>\n",
       "      <th>129160</th>\n",
       "      <td>820219</td>\n",
       "    </tr>\n",
       "    <tr>\n",
       "      <th>117658</th>\n",
       "      <td>751036</td>\n",
       "    </tr>\n",
       "    <tr>\n",
       "      <th>...</th>\n",
       "      <td>...</td>\n",
       "    </tr>\n",
       "    <tr>\n",
       "      <th>278756</th>\n",
       "      <td>635118</td>\n",
       "    </tr>\n",
       "    <tr>\n",
       "      <th>136549</th>\n",
       "      <td>861954</td>\n",
       "    </tr>\n",
       "    <tr>\n",
       "      <th>160224</th>\n",
       "      <td>781658</td>\n",
       "    </tr>\n",
       "    <tr>\n",
       "      <th>116135</th>\n",
       "      <td>846746</td>\n",
       "    </tr>\n",
       "    <tr>\n",
       "      <th>156478</th>\n",
       "      <td>856242</td>\n",
       "    </tr>\n",
       "  </tbody>\n",
       "</table>\n",
       "<p>9440 rows × 1 columns</p>\n",
       "</div>"
      ],
      "text/plain": [
       "        user_id\n",
       "58519    892167\n",
       "13120    749805\n",
       "145145   650628\n",
       "129160   820219\n",
       "117658   751036\n",
       "...         ...\n",
       "278756   635118\n",
       "136549   861954\n",
       "160224   781658\n",
       "116135   846746\n",
       "156478   856242\n",
       "\n",
       "[9440 rows x 1 columns]"
      ]
     },
     "execution_count": 12,
     "metadata": {},
     "output_type": "execute_result"
    }
   ],
   "source": [
    "import pandas as pd\n",
    "import random\n",
    "\n",
    "\n",
    "random.seed(42)  \n",
    "sample_size = 9440\n",
    "selected_rows = random.sample(range(len(df)), sample_size)\n",
    "\n",
    "random_sample_df = df.iloc[selected_rows]\n",
    "random_sample_df"
   ]
  },
  {
   "cell_type": "markdown",
   "id": "21777ab4",
   "metadata": {},
   "source": [
    "## Assign treatment and contrl group randomly"
   ]
  },
  {
   "cell_type": "code",
   "execution_count": 13,
   "id": "ee0279fe",
   "metadata": {},
   "outputs": [],
   "source": [
    "import pandas as pd\n",
    "import random\n",
    "\n",
    "sample_size = 9440\n",
    "random.seed(1)  \n",
    "selected_user_ids = random.sample(df['user_id'].tolist(), sample_size)\n",
    "\n",
    "groups = ['control', 'treatment']\n",
    "random.seed(1)  \n",
    "group_assignments = random.choices(groups, k=sample_size)\n",
    "\n",
    "random_sample_df = pd.DataFrame({'user_id': selected_user_ids, 'group': group_assignments})"
   ]
  },
  {
   "cell_type": "code",
   "execution_count": 14,
   "id": "81606fc2",
   "metadata": {},
   "outputs": [
    {
     "data": {
      "text/html": [
       "<div>\n",
       "<style scoped>\n",
       "    .dataframe tbody tr th:only-of-type {\n",
       "        vertical-align: middle;\n",
       "    }\n",
       "\n",
       "    .dataframe tbody tr th {\n",
       "        vertical-align: top;\n",
       "    }\n",
       "\n",
       "    .dataframe thead th {\n",
       "        text-align: right;\n",
       "    }\n",
       "</style>\n",
       "<table border=\"1\" class=\"dataframe\">\n",
       "  <thead>\n",
       "    <tr style=\"text-align: right;\">\n",
       "      <th></th>\n",
       "      <th>user_id</th>\n",
       "      <th>group</th>\n",
       "    </tr>\n",
       "  </thead>\n",
       "  <tbody>\n",
       "    <tr>\n",
       "      <th>0</th>\n",
       "      <td>738109</td>\n",
       "      <td>control</td>\n",
       "    </tr>\n",
       "    <tr>\n",
       "      <th>1</th>\n",
       "      <td>689775</td>\n",
       "      <td>treatment</td>\n",
       "    </tr>\n",
       "    <tr>\n",
       "      <th>2</th>\n",
       "      <td>652600</td>\n",
       "      <td>treatment</td>\n",
       "    </tr>\n",
       "    <tr>\n",
       "      <th>3</th>\n",
       "      <td>849345</td>\n",
       "      <td>control</td>\n",
       "    </tr>\n",
       "    <tr>\n",
       "      <th>4</th>\n",
       "      <td>709212</td>\n",
       "      <td>control</td>\n",
       "    </tr>\n",
       "  </tbody>\n",
       "</table>\n",
       "</div>"
      ],
      "text/plain": [
       "   user_id      group\n",
       "0   738109    control\n",
       "1   689775  treatment\n",
       "2   652600  treatment\n",
       "3   849345    control\n",
       "4   709212    control"
      ]
     },
     "execution_count": 14,
     "metadata": {},
     "output_type": "execute_result"
    }
   ],
   "source": [
    "random_sample_df.head()"
   ]
  },
  {
   "cell_type": "code",
   "execution_count": 15,
   "id": "d7c12b38",
   "metadata": {},
   "outputs": [
    {
     "name": "stdout",
     "output_type": "stream",
     "text": [
      "           user_id\n",
      "group             \n",
      "control       4732\n",
      "treatment     4708\n"
     ]
    }
   ],
   "source": [
    "group_counts = random_sample_df.groupby('group').count()\n",
    "\n",
    "print(group_counts)"
   ]
  },
  {
   "cell_type": "markdown",
   "id": "7b3d08b0",
   "metadata": {},
   "source": [
    "# Import result dataset   "
   ]
  },
  {
   "cell_type": "markdown",
   "id": "64de74f5",
   "metadata": {},
   "source": [
    "The dataset is the result of this A/B test. \n",
    "Dataset is fake, The user_id might not matched the list created above. \n",
    "\n",
    "The dataset contains 5 columns:\n",
    "-  user_id: unique id of the user who came to the website\n",
    "- timestamp: timestamp that the user came to the page\n",
    "- group: whether the user in treatment group or control group\n",
    "- landing_page: whether the user saw the old page or new page\n",
    "- converted: whether the user converted to a paid user. 1 means converted, 0 means not converted."
   ]
  },
  {
   "cell_type": "code",
   "execution_count": 16,
   "id": "c05610ae",
   "metadata": {
    "scrolled": false
   },
   "outputs": [
    {
     "data": {
      "text/html": [
       "<div>\n",
       "<style scoped>\n",
       "    .dataframe tbody tr th:only-of-type {\n",
       "        vertical-align: middle;\n",
       "    }\n",
       "\n",
       "    .dataframe tbody tr th {\n",
       "        vertical-align: top;\n",
       "    }\n",
       "\n",
       "    .dataframe thead th {\n",
       "        text-align: right;\n",
       "    }\n",
       "</style>\n",
       "<table border=\"1\" class=\"dataframe\">\n",
       "  <thead>\n",
       "    <tr style=\"text-align: right;\">\n",
       "      <th></th>\n",
       "      <th>user_id</th>\n",
       "      <th>timestamp</th>\n",
       "      <th>group</th>\n",
       "      <th>landing_page</th>\n",
       "      <th>converted</th>\n",
       "    </tr>\n",
       "  </thead>\n",
       "  <tbody>\n",
       "    <tr>\n",
       "      <th>0</th>\n",
       "      <td>830101</td>\n",
       "      <td>06:41.5</td>\n",
       "      <td>control</td>\n",
       "      <td>old_page</td>\n",
       "      <td>0</td>\n",
       "    </tr>\n",
       "    <tr>\n",
       "      <th>1</th>\n",
       "      <td>822770</td>\n",
       "      <td>44:38.6</td>\n",
       "      <td>control</td>\n",
       "      <td>old_page</td>\n",
       "      <td>0</td>\n",
       "    </tr>\n",
       "    <tr>\n",
       "      <th>2</th>\n",
       "      <td>783368</td>\n",
       "      <td>44:18.9</td>\n",
       "      <td>control</td>\n",
       "      <td>old_page</td>\n",
       "      <td>0</td>\n",
       "    </tr>\n",
       "    <tr>\n",
       "      <th>3</th>\n",
       "      <td>723534</td>\n",
       "      <td>42:06.9</td>\n",
       "      <td>control</td>\n",
       "      <td>old_page</td>\n",
       "      <td>0</td>\n",
       "    </tr>\n",
       "    <tr>\n",
       "      <th>4</th>\n",
       "      <td>763084</td>\n",
       "      <td>29:38.6</td>\n",
       "      <td>control</td>\n",
       "      <td>old_page</td>\n",
       "      <td>0</td>\n",
       "    </tr>\n",
       "    <tr>\n",
       "      <th>...</th>\n",
       "      <td>...</td>\n",
       "      <td>...</td>\n",
       "      <td>...</td>\n",
       "      <td>...</td>\n",
       "      <td>...</td>\n",
       "    </tr>\n",
       "    <tr>\n",
       "      <th>9435</th>\n",
       "      <td>867643</td>\n",
       "      <td>18:40.9</td>\n",
       "      <td>treatment</td>\n",
       "      <td>new_page</td>\n",
       "      <td>0</td>\n",
       "    </tr>\n",
       "    <tr>\n",
       "      <th>9436</th>\n",
       "      <td>820386</td>\n",
       "      <td>32:23.6</td>\n",
       "      <td>treatment</td>\n",
       "      <td>new_page</td>\n",
       "      <td>0</td>\n",
       "    </tr>\n",
       "    <tr>\n",
       "      <th>9437</th>\n",
       "      <td>834224</td>\n",
       "      <td>31:12.0</td>\n",
       "      <td>treatment</td>\n",
       "      <td>new_page</td>\n",
       "      <td>0</td>\n",
       "    </tr>\n",
       "    <tr>\n",
       "      <th>9438</th>\n",
       "      <td>939806</td>\n",
       "      <td>01:30.5</td>\n",
       "      <td>treatment</td>\n",
       "      <td>new_page</td>\n",
       "      <td>0</td>\n",
       "    </tr>\n",
       "    <tr>\n",
       "      <th>9439</th>\n",
       "      <td>768895</td>\n",
       "      <td>20:27.9</td>\n",
       "      <td>treatment</td>\n",
       "      <td>new_page</td>\n",
       "      <td>0</td>\n",
       "    </tr>\n",
       "  </tbody>\n",
       "</table>\n",
       "<p>9440 rows × 5 columns</p>\n",
       "</div>"
      ],
      "text/plain": [
       "      user_id timestamp      group landing_page  converted\n",
       "0      830101   06:41.5    control     old_page          0\n",
       "1      822770   44:38.6    control     old_page          0\n",
       "2      783368   44:18.9    control     old_page          0\n",
       "3      723534   42:06.9    control     old_page          0\n",
       "4      763084   29:38.6    control     old_page          0\n",
       "...       ...       ...        ...          ...        ...\n",
       "9435   867643   18:40.9  treatment     new_page          0\n",
       "9436   820386   32:23.6  treatment     new_page          0\n",
       "9437   834224   31:12.0  treatment     new_page          0\n",
       "9438   939806   01:30.5  treatment     new_page          0\n",
       "9439   768895   20:27.9  treatment     new_page          0\n",
       "\n",
       "[9440 rows x 5 columns]"
      ]
     },
     "execution_count": 16,
     "metadata": {},
     "output_type": "execute_result"
    }
   ],
   "source": [
    "ab_test = pd.read_csv('ab_results.csv')   \n",
    "ab_test"
   ]
  },
  {
   "cell_type": "code",
   "execution_count": 17,
   "id": "09021af2",
   "metadata": {},
   "outputs": [
    {
     "data": {
      "text/html": [
       "<div>\n",
       "<style scoped>\n",
       "    .dataframe tbody tr th:only-of-type {\n",
       "        vertical-align: middle;\n",
       "    }\n",
       "\n",
       "    .dataframe tbody tr th {\n",
       "        vertical-align: top;\n",
       "    }\n",
       "\n",
       "    .dataframe thead th {\n",
       "        text-align: right;\n",
       "    }\n",
       "</style>\n",
       "<table border=\"1\" class=\"dataframe\">\n",
       "  <thead>\n",
       "    <tr style=\"text-align: right;\">\n",
       "      <th>landing_page</th>\n",
       "      <th>new_page</th>\n",
       "      <th>old_page</th>\n",
       "    </tr>\n",
       "    <tr>\n",
       "      <th>group</th>\n",
       "      <th></th>\n",
       "      <th></th>\n",
       "    </tr>\n",
       "  </thead>\n",
       "  <tbody>\n",
       "    <tr>\n",
       "      <th>control</th>\n",
       "      <td>0</td>\n",
       "      <td>4720</td>\n",
       "    </tr>\n",
       "    <tr>\n",
       "      <th>treatment</th>\n",
       "      <td>4720</td>\n",
       "      <td>0</td>\n",
       "    </tr>\n",
       "  </tbody>\n",
       "</table>\n",
       "</div>"
      ],
      "text/plain": [
       "landing_page  new_page  old_page\n",
       "group                           \n",
       "control              0      4720\n",
       "treatment         4720         0"
      ]
     },
     "execution_count": 17,
     "metadata": {},
     "output_type": "execute_result"
    }
   ],
   "source": [
    "pd.crosstab(ab_test['group'], ab_test['landing_page'])"
   ]
  },
  {
   "cell_type": "markdown",
   "id": "c71e4180",
   "metadata": {},
   "source": [
    "## Calculate coversion rate "
   ]
  },
  {
   "cell_type": "code",
   "execution_count": 18,
   "id": "6521a4b9",
   "metadata": {},
   "outputs": [
    {
     "data": {
      "text/plain": [
       "group\n",
       "control      0.124153\n",
       "treatment    0.114831\n",
       "Name: converted, dtype: float64"
      ]
     },
     "execution_count": 18,
     "metadata": {},
     "output_type": "execute_result"
    }
   ],
   "source": [
    "import numpy as np\n",
    "conversion_rates = ab_test.groupby('group')['converted'].agg(np.mean)\n",
    "conversion_rates"
   ]
  },
  {
   "cell_type": "code",
   "execution_count": 19,
   "id": "83c1b5fe",
   "metadata": {},
   "outputs": [
    {
     "data": {
      "image/png": "[encoded data removed]",
      "text/plain": [
       "<Figure size 400x300 with 1 Axes>"
      ]
     },
     "metadata": {},
     "output_type": "display_data"
    }
   ],
   "source": [
    "import matplotlib.pyplot as plt\n",
    "import seaborn as sns\n",
    "\n",
    "%matplotlib inline\n",
    "\n",
    "plt.figure(figsize=(4,3))\n",
    "\n",
    "sns.barplot(x=ab_test['group'], y=ab_test['converted'], errorbar=('ci', False))\n",
    "\n",
    "plt.ylim(0, 0.17)\n",
    "plt.title('Conversion rate by group', pad=20)\n",
    "plt.xlabel('Group', labelpad=15)\n",
    "plt.ylabel('Converted (proportion)', labelpad=15);"
   ]
  },
  {
   "cell_type": "markdown",
   "id": "dd17d091",
   "metadata": {},
   "source": [
    "#  Analyze test results"
   ]
  },
  {
   "cell_type": "markdown",
   "id": "4ea58fff",
   "metadata": {},
   "source": [
    "## Use Z-test to calculate the P-value"
   ]
  },
  {
   "cell_type": "code",
   "execution_count": 20,
   "id": "e46ac020",
   "metadata": {},
   "outputs": [],
   "source": [
    "from statsmodels.stats.proportion import proportions_ztest, proportion_confint\n",
    "control_results = ab_test[ab_test['group'] == 'control']['converted']\n",
    "treatment_results = ab_test[ab_test['group'] == 'treatment']['converted']"
   ]
  },
  {
   "cell_type": "code",
   "execution_count": 21,
   "id": "e64b7c8c",
   "metadata": {},
   "outputs": [
    {
     "name": "stdout",
     "output_type": "stream",
     "text": [
      "4720\n",
      "4720\n"
     ]
    }
   ],
   "source": [
    "n_con = control_results.count()\n",
    "n_treat = treatment_results.count()\n",
    "print(n_con)\n",
    "print(n_treat)"
   ]
  },
  {
   "cell_type": "code",
   "execution_count": 22,
   "id": "f49c9a09",
   "metadata": {},
   "outputs": [
    {
     "name": "stdout",
     "output_type": "stream",
     "text": [
      "successes: [586, 542]\n",
      "nobs: [4720, 4720]\n"
     ]
    }
   ],
   "source": [
    "successes = [control_results.sum(), treatment_results.sum()]\n",
    "nobs = [n_con, n_treat]\n",
    "\n",
    "print(f'successes: {successes}')\n",
    "print(f'nobs: {nobs}')"
   ]
  },
  {
   "cell_type": "code",
   "execution_count": 23,
   "id": "a7c63989",
   "metadata": {},
   "outputs": [
    {
     "name": "stdout",
     "output_type": "stream",
     "text": [
      "z statistic: 1.40\n",
      "p-value: 0.163\n",
      "ci 95% for control group: [0.115, 0.134]\n",
      "ci 95% for treatment group: [0.106, 0.124]\n"
     ]
    }
   ],
   "source": [
    "z_stat, pval = proportions_ztest(successes, nobs=nobs)\n",
    "(lower_con, lower_treat), (upper_con, upper_treat) = proportion_confint(successes, nobs=nobs, alpha=0.05)\n",
    "print(f'z statistic: {z_stat:.2f}')\n",
    "print(f'p-value: {pval:.3f}')\n",
    "print(f'ci 95% for control group: [{lower_con:.3f}, {upper_con:.3f}]')\n",
    "print(f'ci 95% for treatment group: [{lower_treat:.3f}, {upper_treat:.3f}]')"
   ]
  },
  {
   "cell_type": "markdown",
   "id": "44b2d971",
   "metadata": {},
   "source": [
    "# Conclusion and recommendation"
   ]
  },
  {
   "cell_type": "markdown",
   "id": "d4396b77",
   "metadata": {},
   "source": [
    "## Conclusion"
   ]
  },
  {
   "cell_type": "markdown",
   "id": "538c0f14",
   "metadata": {},
   "source": [
    " - p-value 16.3% is far above alpha 5% \n",
    " \n",
    " - Null hypothesis is true\n",
    " \n",
    "- There is no different between new design and old design impact on conversion rate "
   ]
  },
  {
   "cell_type": "markdown",
   "id": "2b7042f8",
   "metadata": {},
   "source": [
    "## Recommendations"
   ]
  },
  {
   "cell_type": "markdown",
   "id": "ac3261f2",
   "metadata": {},
   "source": [
    "- Try different variations of product page design \n",
    "- Collect feedback from users to understand their preferences\n",
    "- improve customer experience\n",
    "- Enhancing Product Competitiveness\n"
   ]
  },
  {
   "cell_type": "code",
   "execution_count": null,
   "id": "c9b348ed",
   "metadata": {},
   "outputs": [],
   "source": []
  }
 ],
 "metadata": {
  "kernelspec": {
   "display_name": "Python 3 (ipykernel)",
   "language": "python",
   "name": "python3"
  },
  "language_info": {
   "codemirror_mode": {
    "name": "ipython",
    "version": 3
   },
   "file_extension": ".py",
   "mimetype": "text/x-python",
   "name": "python",
   "nbconvert_exporter": "python",
   "pygments_lexer": "ipython3",
   "version": "3.10.9"
  },
  "toc": {
   "base_numbering": 1,
   "nav_menu": {},
   "number_sections": true,
   "sideBar": true,
   "skip_h1_title": false,
   "title_cell": "Table of Contents",
   "title_sidebar": "Contents",
   "toc_cell": false,
   "toc_position": {
    "height": "calc(100% - 180px)",
    "left": "10px",
    "top": "150px",
    "width": "426.667px"
   },
   "toc_section_display": true,
   "toc_window_display": true
  }
 },
 "nbformat": 4,
 "nbformat_minor": 5
}
